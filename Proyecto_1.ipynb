{
  "nbformat": 4,
  "nbformat_minor": 0,
  "metadata": {
    "colab": {
      "name": "Proyecto 1.ipynb",
      "provenance": [],
      "collapsed_sections": [],
      "authorship_tag": "ABX9TyNIKyDD1UB9guPE6D2Xc3qp",
      "include_colab_link": true
    },
    "kernelspec": {
      "name": "python3",
      "display_name": "Python 3"
    },
    "language_info": {
      "name": "python"
    }
  },
  "cells": [
    {
      "cell_type": "markdown",
      "metadata": {
        "id": "view-in-github",
        "colab_type": "text"
      },
      "source": [
        "<a href=\"https://colab.research.google.com/github/JorgeAndres1978/Github_Proyecto1/blob/main/Proyecto_1.ipynb\" target=\"_parent\"><img src=\"https://colab.research.google.com/assets/colab-badge.svg\" alt=\"Open In Colab\"/></a>"
      ]
    },
    {
      "cell_type": "markdown",
      "source": [
        "“PROGRAMA ESPECIALIZADO CIENCIA DE DATOS CON \n",
        "PYTHON”\n",
        "PROYECTO Nº 01"
      ],
      "metadata": {
        "id": "rLKrW3ailPtW"
      }
    },
    {
      "cell_type": "markdown",
      "source": [
        "Ejercicio 1.\n",
        "Escribir un programa que pregunte al usuario por las ventas de los \n",
        "últimos 5 días, y muestre por pantalla una serie con los datos de \n",
        "las ventas por producto: Nro de unidades y precio unitario, \n",
        "indexada por los días, antes y después de aplicarles un descuento \n",
        "del 5%."
      ],
      "metadata": {
        "id": "nx2vR9yCmFsX"
      }
    },
    {
      "cell_type": "code",
      "source": [
        "import pandas as pd\n",
        "comienzo = int(input('ingrese dia 1: '))\n",
        "termino = int(input('ingrese día 5: '))\n",
        "\n",
        "ventas = {} # crear un diccionario vacio de ventas\n",
        "unidad = {} # crear un diccionario vacio de unidades\n",
        "precio_unidad = {} # crear un diccionario vacio del precio\n",
        "for i in range(comienzo, termino+1):\n",
        "  ventas[i] = float(input('Introduce las ventas del día ' + str(i) +': '))\n",
        "ventas = pd.Series(ventas)\n",
        "for i in range(comienzo, termino+1):\n",
        "  unidad[i] = float(input('Introduce las unidades del día ' + str(i) +': '))\n",
        "\n",
        "unidad = pd.Series(unidad)\n",
        "for i in range(comienzo, termino+1):\n",
        "  precio_unidad[i] = float(input('Introduce el precio del producto del día ' + str(i) +': '))\n",
        "unidad = pd.Series(precio_unidad)\n",
        "print('Ventas\\n', ventas)\n",
        "print('Ventas con descuento\\n', ventas*0.95)\n",
        "print('Unidad\\n', unidad)\n",
        "print('Precio\\n', precio_unidad)"
      ],
      "metadata": {
        "colab": {
          "base_uri": "https://localhost:8080/"
        },
        "id": "TXVidzsomHcW",
        "outputId": "2a4f07cd-099b-450f-b975-5c2fd4eec3d6"
      },
      "execution_count": 172,
      "outputs": [
        {
          "output_type": "stream",
          "name": "stdout",
          "text": [
            "ingrese dia 1: 1\n",
            "ingrese día 5: 5\n",
            "Introduce las ventas del día 1: 10000\n",
            "Introduce las ventas del día 2: 20000\n",
            "Introduce las ventas del día 3: 30000\n",
            "Introduce las ventas del día 4: 40000\n",
            "Introduce las ventas del día 5: 50000\n",
            "Introduce las unidades del día 1: 2\n",
            "Introduce las unidades del día 2: 4\n",
            "Introduce las unidades del día 3: 6\n",
            "Introduce las unidades del día 4: 8\n",
            "Introduce las unidades del día 5: 10\n",
            "Introduce el precio del producto del día 1: 5000\n",
            "Introduce el precio del producto del día 2: 5000\n",
            "Introduce el precio del producto del día 3: 5000\n",
            "Introduce el precio del producto del día 4: 5000\n",
            "Introduce el precio del producto del día 5: 5000\n",
            "Ventas\n",
            " 1    10000.0\n",
            "2    20000.0\n",
            "3    30000.0\n",
            "4    40000.0\n",
            "5    50000.0\n",
            "dtype: float64\n",
            "Ventas con descuento\n",
            " 1     9500.0\n",
            "2    19000.0\n",
            "3    28500.0\n",
            "4    38000.0\n",
            "5    47500.0\n",
            "dtype: float64\n",
            "Unidad\n",
            " 1    5000.0\n",
            "2    5000.0\n",
            "3    5000.0\n",
            "4    5000.0\n",
            "5    5000.0\n",
            "dtype: float64\n",
            "Precio\n",
            " {1: 5000.0, 2: 5000.0, 3: 5000.0, 4: 5000.0, 5: 5000.0}\n"
          ]
        }
      ]
    },
    {
      "cell_type": "markdown",
      "source": [
        "Ejercicio 2.\n",
        "Escribir un programa que reciba un diccionario con los ingresos \n",
        "mensuales de los clientes de una empresa, y devuelva una serie \n",
        "con el ingreso mínimo, máximo y media"
      ],
      "metadata": {
        "id": "WumiiBFy94KD"
      }
    },
    {
      "cell_type": "code",
      "source": [
        "import pandas as pd\n",
        "\n",
        "def estadistica_notas(ingr_men):\n",
        "    ingr_men = pd.Series(ingr_men)\n",
        "    estadisticos = pd.Series([ingr_men.min(), ingr_men.max(), ingr_men.mean()], index=['Min', 'Max', 'Media'])\n",
        "    return estadisticos\n",
        "\n",
        "ingr_men = {'cliente 1':9000000, 'cliente 2':5500000, 'cliente 3':6250895}  #son 3 clientes\n",
        "print(estadistica_notas(ingr_men))"
      ],
      "metadata": {
        "colab": {
          "base_uri": "https://localhost:8080/"
        },
        "id": "tVjrz3Vr95aF",
        "outputId": "a80a31c8-2ef0-4ee9-ea42-373b4c8e6b92"
      },
      "execution_count": null,
      "outputs": [
        {
          "output_type": "stream",
          "name": "stdout",
          "text": [
            "Min      5500000.0\n",
            "Max      9000000.0\n",
            "Media    6916965.0\n",
            "dtype: float64\n"
          ]
        }
      ]
    },
    {
      "cell_type": "markdown",
      "source": [
        "Ejercicio 3.\n",
        "Escribir programa que genere y muestre por pantalla un DataFrame \n",
        "con los datos de la tabla siguiente:\n",
        "\n",
        "Mes:      Enero, Febrero, Marzo, Abril, Mayo\n",
        "\n",
        "Ventas:   30500, 35600  , 28300, 33900, 42500  \n",
        "\n",
        "Gastos:   22000, 23450  , 18100, 35700, 32450 \n",
        "\n",
        "\n",
        "A continuación, generar nuevas columna:\n",
        "\n",
        "1. Columna 1 = Gasto/Ventas*100.\n",
        "2. Columna 2 = Si Ventas>= 30000, imprimir “Meta Superada”, \n",
        "caso contrario imprimir “Meta no Superada”.\n",
        "3. Columna 3 = Si Gasto>Ventas, calcular el sobre gasto.\n",
        "4. Obtener el total de las ventas de los últimos 3 meses\n",
        "5. Obtener el total de gastos de febrero a abril"
      ],
      "metadata": {
        "id": "y4_XTzsEGUIs"
      }
    },
    {
      "cell_type": "code",
      "source": [
        "import pandas as pd\n",
        "import numpy as np\n",
        "\n",
        "datos = {'Mes':['Enero', 'Febrero', 'Marzo', 'Abril', 'Mayo'], 'Ventas':[30500, 35600, 28300, 33900, 42500], 'Gastos':[22000, 23400, 18100, 35700, 32450]}\n",
        "df = pd.DataFrame(datos)\n",
        "print(\"Balance del local\")\n",
        "print(df)\n",
        "\n",
        "# Columna 1 = Gasto/Ventas*100.\n",
        "\n",
        "Tk = (df['Gastos']/df['Ventas'])*100\n",
        "df = df.assign(columna1 = Tk)\n",
        "print(\"Balance con col1\")\n",
        "print(df)\n",
        "\n",
        "# Columna 2 = Si Ventas>= 30000, imprimir “Meta Superada”, caso contrario imprimir “Meta no Superada”.\n",
        "Tk2 = [\n",
        "       (df['Ventas']>=30000), (df['Ventas']<30000)\n",
        "       ]\n",
        "values = ['Meta Superada', 'Meta no Superada']\n",
        "hola = df['columna2'] = np.select(Tk2, values)\n",
        "df = df.assign(columna2 = hola)\n",
        "print(\"Balance con col1 y 2\")\n",
        "print(df)\n",
        "\n",
        "# Columna 3 = Si Gasto>Ventas, calcular el sobre gasto.\n",
        "diferencia = df['Ventas']-df['Gastos']\n",
        "sobre_gasto = diferencia < 0\n",
        "df = df.assign(columna3 = sobre_gasto)\n",
        "df = df.assign(columna4 = diferencia)\n",
        "print(\"Balance con col1, 2, 3\")\n",
        "print(df)\n",
        "\n",
        "# Obtener el total de las ventas de los últimos 3 meses\n",
        "hola2 = df.iloc[2:5, 1] #Fila 1, Columnas del 2 al 5 de las ventas\n",
        "salida = sum(hola2)\n",
        "print(\"La suma de los ultimos 3 meses de ventas es: \" , salida)\n",
        "\n",
        "# Obtener el total de gastos de febrero a abril\n",
        "hola3 = df.iloc[3, 2] #Fila 2, Columna 3 de la variable gasto\n",
        "print(\"El gasto del mes de abril es: \" , hola3)\n",
        "\n",
        "#Fin\n",
        "\n"
      ],
      "metadata": {
        "colab": {
          "base_uri": "https://localhost:8080/"
        },
        "id": "fXp2EUXXIVN2",
        "outputId": "c0385313-32b1-46b4-e49d-8340b954a1f4"
      },
      "execution_count": null,
      "outputs": [
        {
          "output_type": "stream",
          "name": "stdout",
          "text": [
            "Balance del local\n",
            "       Mes  Ventas  Gastos\n",
            "0    Enero   30500   22000\n",
            "1  Febrero   35600   23400\n",
            "2    Marzo   28300   18100\n",
            "3    Abril   33900   35700\n",
            "4     Mayo   42500   32450\n",
            "Balance con col1\n",
            "       Mes  Ventas  Gastos    columna1\n",
            "0    Enero   30500   22000   72.131148\n",
            "1  Febrero   35600   23400   65.730337\n",
            "2    Marzo   28300   18100   63.957597\n",
            "3    Abril   33900   35700  105.309735\n",
            "4     Mayo   42500   32450   76.352941\n",
            "Balance con col1 y 2\n",
            "       Mes  Ventas  Gastos    columna1          columna2\n",
            "0    Enero   30500   22000   72.131148     Meta Superada\n",
            "1  Febrero   35600   23400   65.730337     Meta Superada\n",
            "2    Marzo   28300   18100   63.957597  Meta no Superada\n",
            "3    Abril   33900   35700  105.309735     Meta Superada\n",
            "4     Mayo   42500   32450   76.352941     Meta Superada\n",
            "Balance con col1, 2, 3\n",
            "       Mes  Ventas  Gastos    columna1          columna2  columna3  columna4\n",
            "0    Enero   30500   22000   72.131148     Meta Superada     False      8500\n",
            "1  Febrero   35600   23400   65.730337     Meta Superada     False     12200\n",
            "2    Marzo   28300   18100   63.957597  Meta no Superada     False     10200\n",
            "3    Abril   33900   35700  105.309735     Meta Superada      True     -1800\n",
            "4     Mayo   42500   32450   76.352941     Meta Superada     False     10050\n",
            "La suma de los ultimos 3 meses de ventas es:  104700\n",
            "El gasto del mes de abril es:  35700\n"
          ]
        }
      ]
    },
    {
      "cell_type": "markdown",
      "source": [
        "Ejercicio 4.\n",
        "Con el siguiente fichero Data - Riesgos.csv contiene información \n",
        "de riesgo de clientes de un banco. Escribir un programa con los \n",
        "siguientes requisitos:\n",
        "1. Generar un DataFrame con los datos del fichero.\n",
        "2. Mostrar por pantalla las dimensiones del DataFrame, el \n",
        "número de datos que contiene, los nombres de sus columnas \n",
        "y filas, los tipos de datos de las columnas, mostrar las 10 \n",
        "primeras filas y las 10 últimas filas, verificar si tiene datos \n",
        "perdidos/nulos.\n",
        "3. Extraer las 100 primeras columnas y almacenarlas en un \n",
        "contenedor."
      ],
      "metadata": {
        "id": "0N3EocwsrsJk"
      }
    },
    {
      "cell_type": "code",
      "source": [
        "import pandas as pd\n",
        "import numpy as np\n",
        "\n",
        "# cargar la data con pandas y Generar un DataFrame con los datos del fichero.\n",
        "df = pd.read_csv('/var/Data - Riesgos.csv') #, sep=\";\")\n",
        "df.head()\n",
        "\n",
        "# Mostrar por pantalla las dimensiones del DataFrame, el número de datos que contiene, los nombres de sus columnas y filas, los tipos de datos de las columnas.\n",
        "df.info()\n",
        "\n",
        "# Mostrar las 10 primeras filas y las 10 últimas filas.\n",
        "\n",
        "df1 = df.iloc[0:10, :] # 10 primeras filas y todas las columnas\n",
        "print(df1)\n",
        "\n",
        "#  verificar si tiene datos perdidos/nulos.\n",
        "\n",
        "df.isnull().sum()\n",
        "\n"
      ],
      "metadata": {
        "colab": {
          "base_uri": "https://localhost:8080/"
        },
        "id": "1xraB_Yfryti",
        "outputId": "077ce3eb-7211-42d9-b9f0-7484afcef859"
      },
      "execution_count": 173,
      "outputs": [
        {
          "output_type": "stream",
          "name": "stdout",
          "text": [
            "<class 'pandas.core.frame.DataFrame'>\n",
            "RangeIndex: 4500 entries, 0 to 4499\n",
            "Data columns (total 10 columns):\n",
            " #   Column         Non-Null Count  Dtype  \n",
            "---  ------         --------------  -----  \n",
            " 0   ID             4500 non-null   int64  \n",
            " 1   edad           4487 non-null   float64\n",
            " 2   meses          4494 non-null   float64\n",
            " 3   max_ant        4496 non-null   float64\n",
            " 4   ingreso        4495 non-null   float64\n",
            " 5   score          4495 non-null   float64\n",
            " 6   tipo_vivienda  4500 non-null   int64  \n",
            " 7   zona           4494 non-null   float64\n",
            " 8   nivel          4500 non-null   int64  \n",
            " 9   riesgo         4500 non-null   int64  \n",
            "dtypes: float64(6), int64(4)\n",
            "memory usage: 351.7 KB\n",
            "     ID  edad  meses  max_ant  ingreso  score  tipo_vivienda  zona  nivel  \\\n",
            "0  2208  33.0  128.0      6.0   3230.0  192.0              2   3.0      2   \n",
            "1  2211  32.0  185.0      7.0   2930.0  217.0              2   1.0      5   \n",
            "2  2212  28.0    NaN      7.0   1883.7  202.0              2   1.0      2   \n",
            "3  2216  56.0  200.0      0.0    850.0  194.0              2   1.0      5   \n",
            "4  2218  32.0  131.0     65.0   3200.0  200.0              2   1.0      2   \n",
            "5  2219  34.0  145.0      6.0   7000.0  196.0              2   5.0      2   \n",
            "6  2226   NaN  114.0      0.0   2171.5  178.0              2   2.0      1   \n",
            "7  2227  27.0  116.0      0.0    800.0  169.0              2   1.0      5   \n",
            "8  2228  26.0  182.0      6.0   3150.0  190.0              4   3.0      5   \n",
            "9  2230  25.0  154.0      1.0   2600.0  189.0              2   1.0      2   \n",
            "\n",
            "   riesgo  \n",
            "0       1  \n",
            "1       1  \n",
            "2       1  \n",
            "3       1  \n",
            "4       1  \n",
            "5       1  \n",
            "6       1  \n",
            "7       1  \n",
            "8       1  \n",
            "9       1  \n"
          ]
        },
        {
          "output_type": "execute_result",
          "data": {
            "text/plain": [
              "ID                0\n",
              "edad             13\n",
              "meses             6\n",
              "max_ant           4\n",
              "ingreso           5\n",
              "score             5\n",
              "tipo_vivienda     0\n",
              "zona              6\n",
              "nivel             0\n",
              "riesgo            0\n",
              "dtype: int64"
            ]
          },
          "metadata": {},
          "execution_count": 173
        }
      ]
    }
  ]
}